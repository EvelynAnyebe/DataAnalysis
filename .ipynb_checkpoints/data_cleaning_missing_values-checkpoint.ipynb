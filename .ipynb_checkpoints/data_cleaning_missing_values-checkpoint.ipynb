{
 "cells": [
  {
   "cell_type": "markdown",
   "metadata": {},
   "source": [
    "## Data Cleaning - handling missing values"
   ]
  },
  {
   "cell_type": "markdown",
   "metadata": {},
   "source": [
    "Data cleaning is an important part of data science but it can be easily overlooked. Cleaning your data affects how your models behave and visuals appear. It greatly affects the insights you intend to discover. \n",
    "\n",
    "There are many data cleaning activities like missing values, parsing date, scalling and normalization. Starting with missing values, lets dig in."
   ]
  },
  {
   "cell_type": "markdown",
   "metadata": {},
   "source": [
    "### Imports"
   ]
  },
  {
   "cell_type": "code",
   "execution_count": 2,
   "metadata": {},
   "outputs": [],
   "source": [
    "import pandas as pd\n",
    "import numpy as np"
   ]
  },
  {
   "cell_type": "markdown",
   "metadata": {},
   "source": [
    "## Load the data"
   ]
  },
  {
   "cell_type": "code",
   "execution_count": 3,
   "metadata": {},
   "outputs": [],
   "source": [
    "df = pd.read_csv('new-york-history.csv')\n",
    "\n",
    "# set seed for reproducibility\n",
    "np.random.seed(0) "
   ]
  },
  {
   "cell_type": "code",
   "execution_count": 4,
   "metadata": {},
   "outputs": [
    {
     "data": {
      "text/html": [
       "<div>\n",
       "<style scoped>\n",
       "    .dataframe tbody tr th:only-of-type {\n",
       "        vertical-align: middle;\n",
       "    }\n",
       "\n",
       "    .dataframe tbody tr th {\n",
       "        vertical-align: top;\n",
       "    }\n",
       "\n",
       "    .dataframe thead th {\n",
       "        text-align: right;\n",
       "    }\n",
       "</style>\n",
       "<table border=\"1\" class=\"dataframe\">\n",
       "  <thead>\n",
       "    <tr style=\"text-align: right;\">\n",
       "      <th></th>\n",
       "      <th>date</th>\n",
       "      <th>state</th>\n",
       "      <th>death</th>\n",
       "      <th>deathConfirmed</th>\n",
       "      <th>deathIncrease</th>\n",
       "      <th>deathProbable</th>\n",
       "      <th>hospitalized</th>\n",
       "      <th>hospitalizedCumulative</th>\n",
       "      <th>hospitalizedCurrently</th>\n",
       "      <th>hospitalizedIncrease</th>\n",
       "      <th>...</th>\n",
       "      <th>totalTestResults</th>\n",
       "      <th>totalTestResultsIncrease</th>\n",
       "      <th>totalTestsAntibody</th>\n",
       "      <th>totalTestsAntigen</th>\n",
       "      <th>totalTestsPeopleAntibody</th>\n",
       "      <th>totalTestsPeopleAntigen</th>\n",
       "      <th>totalTestsPeopleViral</th>\n",
       "      <th>totalTestsPeopleViralIncrease</th>\n",
       "      <th>totalTestsViral</th>\n",
       "      <th>totalTestsViralIncrease</th>\n",
       "    </tr>\n",
       "  </thead>\n",
       "  <tbody>\n",
       "    <tr>\n",
       "      <th>0</th>\n",
       "      <td>2021-03-01</td>\n",
       "      <td>NY</td>\n",
       "      <td>38577.0</td>\n",
       "      <td>NaN</td>\n",
       "      <td>80</td>\n",
       "      <td>NaN</td>\n",
       "      <td>89995.0</td>\n",
       "      <td>89995.0</td>\n",
       "      <td>5307.0</td>\n",
       "      <td>0</td>\n",
       "      <td>...</td>\n",
       "      <td>38281073</td>\n",
       "      <td>174158</td>\n",
       "      <td>NaN</td>\n",
       "      <td>NaN</td>\n",
       "      <td>NaN</td>\n",
       "      <td>NaN</td>\n",
       "      <td>NaN</td>\n",
       "      <td>0</td>\n",
       "      <td>NaN</td>\n",
       "      <td>0</td>\n",
       "    </tr>\n",
       "    <tr>\n",
       "      <th>1</th>\n",
       "      <td>2021-02-28</td>\n",
       "      <td>NY</td>\n",
       "      <td>38497.0</td>\n",
       "      <td>NaN</td>\n",
       "      <td>90</td>\n",
       "      <td>NaN</td>\n",
       "      <td>89995.0</td>\n",
       "      <td>89995.0</td>\n",
       "      <td>5259.0</td>\n",
       "      <td>0</td>\n",
       "      <td>...</td>\n",
       "      <td>38106915</td>\n",
       "      <td>273720</td>\n",
       "      <td>NaN</td>\n",
       "      <td>NaN</td>\n",
       "      <td>NaN</td>\n",
       "      <td>NaN</td>\n",
       "      <td>NaN</td>\n",
       "      <td>0</td>\n",
       "      <td>NaN</td>\n",
       "      <td>0</td>\n",
       "    </tr>\n",
       "    <tr>\n",
       "      <th>2</th>\n",
       "      <td>2021-02-27</td>\n",
       "      <td>NY</td>\n",
       "      <td>38407.0</td>\n",
       "      <td>NaN</td>\n",
       "      <td>86</td>\n",
       "      <td>NaN</td>\n",
       "      <td>89995.0</td>\n",
       "      <td>89995.0</td>\n",
       "      <td>5445.0</td>\n",
       "      <td>0</td>\n",
       "      <td>...</td>\n",
       "      <td>37833195</td>\n",
       "      <td>285307</td>\n",
       "      <td>NaN</td>\n",
       "      <td>NaN</td>\n",
       "      <td>NaN</td>\n",
       "      <td>NaN</td>\n",
       "      <td>NaN</td>\n",
       "      <td>0</td>\n",
       "      <td>NaN</td>\n",
       "      <td>0</td>\n",
       "    </tr>\n",
       "    <tr>\n",
       "      <th>3</th>\n",
       "      <td>2021-02-26</td>\n",
       "      <td>NY</td>\n",
       "      <td>38321.0</td>\n",
       "      <td>NaN</td>\n",
       "      <td>94</td>\n",
       "      <td>NaN</td>\n",
       "      <td>89995.0</td>\n",
       "      <td>89995.0</td>\n",
       "      <td>5626.0</td>\n",
       "      <td>0</td>\n",
       "      <td>...</td>\n",
       "      <td>37547888</td>\n",
       "      <td>291189</td>\n",
       "      <td>NaN</td>\n",
       "      <td>NaN</td>\n",
       "      <td>NaN</td>\n",
       "      <td>NaN</td>\n",
       "      <td>NaN</td>\n",
       "      <td>0</td>\n",
       "      <td>NaN</td>\n",
       "      <td>0</td>\n",
       "    </tr>\n",
       "    <tr>\n",
       "      <th>4</th>\n",
       "      <td>2021-02-25</td>\n",
       "      <td>NY</td>\n",
       "      <td>38227.0</td>\n",
       "      <td>NaN</td>\n",
       "      <td>92</td>\n",
       "      <td>NaN</td>\n",
       "      <td>89995.0</td>\n",
       "      <td>89995.0</td>\n",
       "      <td>5703.0</td>\n",
       "      <td>0</td>\n",
       "      <td>...</td>\n",
       "      <td>37256699</td>\n",
       "      <td>278942</td>\n",
       "      <td>NaN</td>\n",
       "      <td>NaN</td>\n",
       "      <td>NaN</td>\n",
       "      <td>NaN</td>\n",
       "      <td>NaN</td>\n",
       "      <td>0</td>\n",
       "      <td>NaN</td>\n",
       "      <td>0</td>\n",
       "    </tr>\n",
       "    <tr>\n",
       "      <th>5</th>\n",
       "      <td>2021-02-24</td>\n",
       "      <td>NY</td>\n",
       "      <td>38135.0</td>\n",
       "      <td>NaN</td>\n",
       "      <td>104</td>\n",
       "      <td>NaN</td>\n",
       "      <td>89995.0</td>\n",
       "      <td>89995.0</td>\n",
       "      <td>5876.0</td>\n",
       "      <td>0</td>\n",
       "      <td>...</td>\n",
       "      <td>36977757</td>\n",
       "      <td>216813</td>\n",
       "      <td>NaN</td>\n",
       "      <td>NaN</td>\n",
       "      <td>NaN</td>\n",
       "      <td>NaN</td>\n",
       "      <td>NaN</td>\n",
       "      <td>0</td>\n",
       "      <td>NaN</td>\n",
       "      <td>0</td>\n",
       "    </tr>\n",
       "  </tbody>\n",
       "</table>\n",
       "<p>6 rows × 41 columns</p>\n",
       "</div>"
      ],
      "text/plain": [
       "         date state    death  deathConfirmed  deathIncrease  deathProbable  \\\n",
       "0  2021-03-01    NY  38577.0             NaN             80            NaN   \n",
       "1  2021-02-28    NY  38497.0             NaN             90            NaN   \n",
       "2  2021-02-27    NY  38407.0             NaN             86            NaN   \n",
       "3  2021-02-26    NY  38321.0             NaN             94            NaN   \n",
       "4  2021-02-25    NY  38227.0             NaN             92            NaN   \n",
       "5  2021-02-24    NY  38135.0             NaN            104            NaN   \n",
       "\n",
       "   hospitalized  hospitalizedCumulative  hospitalizedCurrently  \\\n",
       "0       89995.0                 89995.0                 5307.0   \n",
       "1       89995.0                 89995.0                 5259.0   \n",
       "2       89995.0                 89995.0                 5445.0   \n",
       "3       89995.0                 89995.0                 5626.0   \n",
       "4       89995.0                 89995.0                 5703.0   \n",
       "5       89995.0                 89995.0                 5876.0   \n",
       "\n",
       "   hospitalizedIncrease  ...  totalTestResults  totalTestResultsIncrease  \\\n",
       "0                     0  ...          38281073                    174158   \n",
       "1                     0  ...          38106915                    273720   \n",
       "2                     0  ...          37833195                    285307   \n",
       "3                     0  ...          37547888                    291189   \n",
       "4                     0  ...          37256699                    278942   \n",
       "5                     0  ...          36977757                    216813   \n",
       "\n",
       "   totalTestsAntibody  totalTestsAntigen  totalTestsPeopleAntibody  \\\n",
       "0                 NaN                NaN                       NaN   \n",
       "1                 NaN                NaN                       NaN   \n",
       "2                 NaN                NaN                       NaN   \n",
       "3                 NaN                NaN                       NaN   \n",
       "4                 NaN                NaN                       NaN   \n",
       "5                 NaN                NaN                       NaN   \n",
       "\n",
       "   totalTestsPeopleAntigen  totalTestsPeopleViral  \\\n",
       "0                      NaN                    NaN   \n",
       "1                      NaN                    NaN   \n",
       "2                      NaN                    NaN   \n",
       "3                      NaN                    NaN   \n",
       "4                      NaN                    NaN   \n",
       "5                      NaN                    NaN   \n",
       "\n",
       "   totalTestsPeopleViralIncrease  totalTestsViral  totalTestsViralIncrease  \n",
       "0                              0              NaN                        0  \n",
       "1                              0              NaN                        0  \n",
       "2                              0              NaN                        0  \n",
       "3                              0              NaN                        0  \n",
       "4                              0              NaN                        0  \n",
       "5                              0              NaN                        0  \n",
       "\n",
       "[6 rows x 41 columns]"
      ]
     },
     "execution_count": 4,
     "metadata": {},
     "output_type": "execute_result"
    }
   ],
   "source": [
    "df.head(6)"
   ]
  },
  {
   "cell_type": "code",
   "execution_count": 5,
   "metadata": {},
   "outputs": [
    {
     "data": {
      "text/plain": [
       "(365, 41)"
      ]
     },
     "execution_count": 5,
     "metadata": {},
     "output_type": "execute_result"
    }
   ],
   "source": [
    "df.shape"
   ]
  },
  {
   "cell_type": "markdown",
   "metadata": {},
   "source": [
    "The dataset has 365 rows and 41 columns. From the first six records displayed by `df.head()`, there are records with NaNs not a number value.NaNs are missing values that needs to be removed or replaced. Before we proceed to make that decision, let's determine the number of NaNs in each column."
   ]
  },
  {
   "cell_type": "code",
   "execution_count": 6,
   "metadata": {},
   "outputs": [
    {
     "data": {
      "text/plain": [
       "date                                  0\n",
       "state                                 0\n",
       "death                                13\n",
       "deathConfirmed                      364\n",
       "deathIncrease                         0\n",
       "deathProbable                       365\n",
       "hospitalized                         19\n",
       "hospitalizedCumulative               19\n",
       "hospitalizedCurrently                15\n",
       "hospitalizedIncrease                  0\n",
       "inIcuCumulative                     365\n",
       "inIcuCurrently                       24\n",
       "negative                            365\n",
       "negativeIncrease                      0\n",
       "negativeTestsAntibody               365\n",
       "negativeTestsPeopleAntibody         365\n",
       "negativeTestsViral                  365\n",
       "onVentilatorCumulative              365\n",
       "onVentilatorCurrently                66\n",
       "positive                              0\n",
       "positiveCasesViral                  365\n",
       "positiveIncrease                      0\n",
       "positiveScore                         0\n",
       "positiveTestsAntibody               365\n",
       "positiveTestsAntigen                365\n",
       "positiveTestsPeopleAntibody         365\n",
       "positiveTestsPeopleAntigen          365\n",
       "positiveTestsViral                  365\n",
       "recovered                           365\n",
       "totalTestEncountersViral              0\n",
       "totalTestEncountersViralIncrease      0\n",
       "totalTestResults                      0\n",
       "totalTestResultsIncrease              0\n",
       "totalTestsAntibody                  365\n",
       "totalTestsAntigen                   365\n",
       "totalTestsPeopleAntibody            365\n",
       "totalTestsPeopleAntigen             365\n",
       "totalTestsPeopleViral               365\n",
       "totalTestsPeopleViralIncrease         0\n",
       "totalTestsViral                     365\n",
       "totalTestsViralIncrease               0\n",
       "dtype: int64"
      ]
     },
     "execution_count": 6,
     "metadata": {},
     "output_type": "execute_result"
    }
   ],
   "source": [
    "df.isnull().sum()"
   ]
  },
  {
   "cell_type": "markdown",
   "metadata": {},
   "source": [
    "## Drop the columns with only NaN values"
   ]
  },
  {
   "cell_type": "markdown",
   "metadata": {},
   "source": [
    "20 columns are empty as the have 365 null values in them. **deathConfirmed** has 364 NaNs meaning it is almost empty. Columns with only NaN values will be dropped followed by `'deathComfirmed'`. This will give us room to remove rows with NaNs using `dropna()` \n",
    "\n",
    "`df.dropna(axis=1)` could be used but this will mean droping columns with significance like `'hospitalizedCurrently'` and `'deathConfirmed'`"
   ]
  },
  {
   "cell_type": "code",
   "execution_count": 7,
   "metadata": {},
   "outputs": [
    {
     "data": {
      "text/plain": [
       "(365, 21)"
      ]
     },
     "execution_count": 7,
     "metadata": {},
     "output_type": "execute_result"
    }
   ],
   "source": [
    "#counting columns that have Nas\n",
    "df2 = df[[column for column in df if df[column].count()>=1]]\n",
    "df2.shape"
   ]
  },
  {
   "cell_type": "code",
   "execution_count": 8,
   "metadata": {},
   "outputs": [
    {
     "data": {
      "text/plain": [
       "date                                  0\n",
       "state                                 0\n",
       "death                                13\n",
       "deathConfirmed                      364\n",
       "deathIncrease                         0\n",
       "hospitalized                         19\n",
       "hospitalizedCumulative               19\n",
       "hospitalizedCurrently                15\n",
       "hospitalizedIncrease                  0\n",
       "inIcuCurrently                       24\n",
       "negativeIncrease                      0\n",
       "onVentilatorCurrently                66\n",
       "positive                              0\n",
       "positiveIncrease                      0\n",
       "positiveScore                         0\n",
       "totalTestEncountersViral              0\n",
       "totalTestEncountersViralIncrease      0\n",
       "totalTestResults                      0\n",
       "totalTestResultsIncrease              0\n",
       "totalTestsPeopleViralIncrease         0\n",
       "totalTestsViralIncrease               0\n",
       "dtype: int64"
      ]
     },
     "execution_count": 8,
     "metadata": {},
     "output_type": "execute_result"
    }
   ],
   "source": [
    "df2.isnull().sum()"
   ]
  },
  {
   "cell_type": "code",
   "execution_count": 9,
   "metadata": {},
   "outputs": [
    {
     "data": {
      "text/plain": [
       "(365, 20)"
      ]
     },
     "execution_count": 9,
     "metadata": {},
     "output_type": "execute_result"
    }
   ],
   "source": [
    "#removing deathconfirmed with just 1 value\n",
    "df3 = pd.concat([df2.iloc[:, 0:3],df2.iloc[:,4:]],axis=1)\n",
    "df3.shape\n",
    "\n",
    "#this operation may be performed using\n",
    "# df3 = df2.loc[:,['date','state', 'death', 'deathIncrease', 'hospitalized', 'hospitalizedCumulative', 'hospitalizedCurrently',\n",
    "#        'hospitalizedIncrease', 'inIcuCurrently', 'negativeIncrease', 'onVentilatorCurrently', 'positive', 'positiveIncrease',\n",
    "#        'positiveScore', 'totalTestEncountersViral', 'totalTestEncountersViralIncrease', 'totalTestResults',\n",
    "#        'totalTestResultsIncrease', 'totalTestsPeopleViralIncrease','totalTestsViralIncrease']]"
   ]
  },
  {
   "cell_type": "code",
   "execution_count": 10,
   "metadata": {},
   "outputs": [
    {
     "data": {
      "text/plain": [
       "(299, 20)"
      ]
     },
     "execution_count": 10,
     "metadata": {},
     "output_type": "execute_result"
    }
   ],
   "source": [
    "#Remove rows with NaNs\n",
    "df4 = df3.dropna()\n",
    "df4.shape"
   ]
  },
  {
   "cell_type": "code",
   "execution_count": 11,
   "metadata": {},
   "outputs": [
    {
     "data": {
      "text/html": [
       "<div>\n",
       "<style scoped>\n",
       "    .dataframe tbody tr th:only-of-type {\n",
       "        vertical-align: middle;\n",
       "    }\n",
       "\n",
       "    .dataframe tbody tr th {\n",
       "        vertical-align: top;\n",
       "    }\n",
       "\n",
       "    .dataframe thead th {\n",
       "        text-align: right;\n",
       "    }\n",
       "</style>\n",
       "<table border=\"1\" class=\"dataframe\">\n",
       "  <thead>\n",
       "    <tr style=\"text-align: right;\">\n",
       "      <th></th>\n",
       "      <th>date</th>\n",
       "      <th>state</th>\n",
       "      <th>death</th>\n",
       "      <th>deathIncrease</th>\n",
       "      <th>hospitalized</th>\n",
       "      <th>hospitalizedCumulative</th>\n",
       "      <th>hospitalizedCurrently</th>\n",
       "      <th>hospitalizedIncrease</th>\n",
       "      <th>inIcuCurrently</th>\n",
       "      <th>negativeIncrease</th>\n",
       "      <th>onVentilatorCurrently</th>\n",
       "      <th>positive</th>\n",
       "      <th>positiveIncrease</th>\n",
       "      <th>positiveScore</th>\n",
       "      <th>totalTestEncountersViral</th>\n",
       "      <th>totalTestEncountersViralIncrease</th>\n",
       "      <th>totalTestResults</th>\n",
       "      <th>totalTestResultsIncrease</th>\n",
       "      <th>totalTestsPeopleViralIncrease</th>\n",
       "      <th>totalTestsViralIncrease</th>\n",
       "    </tr>\n",
       "  </thead>\n",
       "  <tbody>\n",
       "    <tr>\n",
       "      <th>0</th>\n",
       "      <td>2021-03-01</td>\n",
       "      <td>NY</td>\n",
       "      <td>38577.0</td>\n",
       "      <td>80</td>\n",
       "      <td>89995.0</td>\n",
       "      <td>89995.0</td>\n",
       "      <td>5307.0</td>\n",
       "      <td>0</td>\n",
       "      <td>1065.0</td>\n",
       "      <td>0</td>\n",
       "      <td>741.0</td>\n",
       "      <td>1636680</td>\n",
       "      <td>6235</td>\n",
       "      <td>0</td>\n",
       "      <td>38281073</td>\n",
       "      <td>174158</td>\n",
       "      <td>38281073</td>\n",
       "      <td>174158</td>\n",
       "      <td>0</td>\n",
       "      <td>0</td>\n",
       "    </tr>\n",
       "    <tr>\n",
       "      <th>1</th>\n",
       "      <td>2021-02-28</td>\n",
       "      <td>NY</td>\n",
       "      <td>38497.0</td>\n",
       "      <td>90</td>\n",
       "      <td>89995.0</td>\n",
       "      <td>89995.0</td>\n",
       "      <td>5259.0</td>\n",
       "      <td>0</td>\n",
       "      <td>1083.0</td>\n",
       "      <td>0</td>\n",
       "      <td>728.0</td>\n",
       "      <td>1630445</td>\n",
       "      <td>7580</td>\n",
       "      <td>0</td>\n",
       "      <td>38106915</td>\n",
       "      <td>273720</td>\n",
       "      <td>38106915</td>\n",
       "      <td>273720</td>\n",
       "      <td>0</td>\n",
       "      <td>0</td>\n",
       "    </tr>\n",
       "    <tr>\n",
       "      <th>2</th>\n",
       "      <td>2021-02-27</td>\n",
       "      <td>NY</td>\n",
       "      <td>38407.0</td>\n",
       "      <td>86</td>\n",
       "      <td>89995.0</td>\n",
       "      <td>89995.0</td>\n",
       "      <td>5445.0</td>\n",
       "      <td>0</td>\n",
       "      <td>1121.0</td>\n",
       "      <td>0</td>\n",
       "      <td>753.0</td>\n",
       "      <td>1622865</td>\n",
       "      <td>8141</td>\n",
       "      <td>0</td>\n",
       "      <td>37833195</td>\n",
       "      <td>285307</td>\n",
       "      <td>37833195</td>\n",
       "      <td>285307</td>\n",
       "      <td>0</td>\n",
       "      <td>0</td>\n",
       "    </tr>\n",
       "    <tr>\n",
       "      <th>3</th>\n",
       "      <td>2021-02-26</td>\n",
       "      <td>NY</td>\n",
       "      <td>38321.0</td>\n",
       "      <td>94</td>\n",
       "      <td>89995.0</td>\n",
       "      <td>89995.0</td>\n",
       "      <td>5626.0</td>\n",
       "      <td>0</td>\n",
       "      <td>1132.0</td>\n",
       "      <td>0</td>\n",
       "      <td>771.0</td>\n",
       "      <td>1614724</td>\n",
       "      <td>8204</td>\n",
       "      <td>0</td>\n",
       "      <td>37547888</td>\n",
       "      <td>291189</td>\n",
       "      <td>37547888</td>\n",
       "      <td>291189</td>\n",
       "      <td>0</td>\n",
       "      <td>0</td>\n",
       "    </tr>\n",
       "    <tr>\n",
       "      <th>4</th>\n",
       "      <td>2021-02-25</td>\n",
       "      <td>NY</td>\n",
       "      <td>38227.0</td>\n",
       "      <td>92</td>\n",
       "      <td>89995.0</td>\n",
       "      <td>89995.0</td>\n",
       "      <td>5703.0</td>\n",
       "      <td>0</td>\n",
       "      <td>1124.0</td>\n",
       "      <td>0</td>\n",
       "      <td>774.0</td>\n",
       "      <td>1606520</td>\n",
       "      <td>8746</td>\n",
       "      <td>0</td>\n",
       "      <td>37256699</td>\n",
       "      <td>278942</td>\n",
       "      <td>37256699</td>\n",
       "      <td>278942</td>\n",
       "      <td>0</td>\n",
       "      <td>0</td>\n",
       "    </tr>\n",
       "  </tbody>\n",
       "</table>\n",
       "</div>"
      ],
      "text/plain": [
       "         date state    death  deathIncrease  hospitalized  \\\n",
       "0  2021-03-01    NY  38577.0             80       89995.0   \n",
       "1  2021-02-28    NY  38497.0             90       89995.0   \n",
       "2  2021-02-27    NY  38407.0             86       89995.0   \n",
       "3  2021-02-26    NY  38321.0             94       89995.0   \n",
       "4  2021-02-25    NY  38227.0             92       89995.0   \n",
       "\n",
       "   hospitalizedCumulative  hospitalizedCurrently  hospitalizedIncrease  \\\n",
       "0                 89995.0                 5307.0                     0   \n",
       "1                 89995.0                 5259.0                     0   \n",
       "2                 89995.0                 5445.0                     0   \n",
       "3                 89995.0                 5626.0                     0   \n",
       "4                 89995.0                 5703.0                     0   \n",
       "\n",
       "   inIcuCurrently  negativeIncrease  onVentilatorCurrently  positive  \\\n",
       "0          1065.0                 0                  741.0   1636680   \n",
       "1          1083.0                 0                  728.0   1630445   \n",
       "2          1121.0                 0                  753.0   1622865   \n",
       "3          1132.0                 0                  771.0   1614724   \n",
       "4          1124.0                 0                  774.0   1606520   \n",
       "\n",
       "   positiveIncrease  positiveScore  totalTestEncountersViral  \\\n",
       "0              6235              0                  38281073   \n",
       "1              7580              0                  38106915   \n",
       "2              8141              0                  37833195   \n",
       "3              8204              0                  37547888   \n",
       "4              8746              0                  37256699   \n",
       "\n",
       "   totalTestEncountersViralIncrease  totalTestResults  \\\n",
       "0                            174158          38281073   \n",
       "1                            273720          38106915   \n",
       "2                            285307          37833195   \n",
       "3                            291189          37547888   \n",
       "4                            278942          37256699   \n",
       "\n",
       "   totalTestResultsIncrease  totalTestsPeopleViralIncrease  \\\n",
       "0                    174158                              0   \n",
       "1                    273720                              0   \n",
       "2                    285307                              0   \n",
       "3                    291189                              0   \n",
       "4                    278942                              0   \n",
       "\n",
       "   totalTestsViralIncrease  \n",
       "0                        0  \n",
       "1                        0  \n",
       "2                        0  \n",
       "3                        0  \n",
       "4                        0  "
      ]
     },
     "execution_count": 11,
     "metadata": {},
     "output_type": "execute_result"
    }
   ],
   "source": [
    "df4.head()"
   ]
  },
  {
   "cell_type": "markdown",
   "metadata": {},
   "source": [
    "The dataset is void of missing values and now has 299 rows and 20 columns "
   ]
  },
  {
   "cell_type": "markdown",
   "metadata": {},
   "source": [
    "### Replace missing values \n",
    "\n",
    "It is possible to replace missing values using `fillna()` but this decision is relies on the intuition of the data analysts. The data analyst should try to understand why the data is missing. Is the data missing because it wasn't recorded or because it doesn't exist? If a value is missing because it doesn't exist, then it is best not to guess it. On the other hand, if a value is missing because it is not recorded, the the analyst can guess what it might be by looking at the other values in the column and row.\n",
    "\n",
    "We may decide to replace NaNs in `'death'` with 0 because it is intuitive that noone die on that day and the the entry was omitted. Same can be said of `'hospitalized'`,`'inIcuCurrently'`,`'onVentilatorCurrently'`. If the analyst is are doing a meticulous analysis, he may go through every column to try and decide whoch value to use as a replacement. One must be cautious as this operation may end up adding noise to your data."
   ]
  },
  {
   "cell_type": "code",
   "execution_count": 12,
   "metadata": {},
   "outputs": [],
   "source": [
    "df5 = df2.loc[:,['date','state', 'death', 'deathIncrease', 'hospitalized', 'hospitalizedCumulative', 'hospitalizedCurrently',\n",
    "       'hospitalizedIncrease', 'inIcuCurrently', 'negativeIncrease', 'onVentilatorCurrently', 'positive', 'positiveIncrease',\n",
    "       'positiveScore', 'totalTestEncountersViral', 'totalTestEncountersViralIncrease', 'totalTestResults',\n",
    "       'totalTestResultsIncrease', 'totalTestsPeopleViralIncrease','totalTestsViralIncrease']]\n",
    "\n",
    "#replace NaNs with 0\n",
    "df5[['death','hospitalized','hospitalizedCurrently','onVentilatorCurrently','inIcuCurrently']]=df5[['death','hospitalized','hospitalizedCurrently','onVentilatorCurrently','inIcuCurrently']].fillna(0)"
   ]
  },
  {
   "cell_type": "code",
   "execution_count": 13,
   "metadata": {},
   "outputs": [
    {
     "data": {
      "text/plain": [
       "date                                 0\n",
       "state                                0\n",
       "death                                0\n",
       "deathIncrease                        0\n",
       "hospitalized                         0\n",
       "hospitalizedCumulative              19\n",
       "hospitalizedCurrently                0\n",
       "hospitalizedIncrease                 0\n",
       "inIcuCurrently                       0\n",
       "negativeIncrease                     0\n",
       "onVentilatorCurrently                0\n",
       "positive                             0\n",
       "positiveIncrease                     0\n",
       "positiveScore                        0\n",
       "totalTestEncountersViral             0\n",
       "totalTestEncountersViralIncrease     0\n",
       "totalTestResults                     0\n",
       "totalTestResultsIncrease             0\n",
       "totalTestsPeopleViralIncrease        0\n",
       "totalTestsViralIncrease              0\n",
       "dtype: int64"
      ]
     },
     "execution_count": 13,
     "metadata": {},
     "output_type": "execute_result"
    }
   ],
   "source": [
    "df5.isnull().sum()"
   ]
  },
  {
   "cell_type": "code",
   "execution_count": 14,
   "metadata": {},
   "outputs": [
    {
     "data": {
      "text/plain": [
       "(346, 20)"
      ]
     },
     "execution_count": 14,
     "metadata": {},
     "output_type": "execute_result"
    }
   ],
   "source": [
    "df6 = df5.dropna()\n",
    "df6.shape"
   ]
  },
  {
   "cell_type": "markdown",
   "metadata": {},
   "source": [
    "By replacing the NaNs values with 0, we are now have a dataset of 346 rows and 20 columns. Other parameters for [`fillna()` can be found here](https://www.w3resource.com/pandas/dataframe/dataframe-fillna.php) \n"
   ]
  }
 ],
 "metadata": {
  "kernelspec": {
   "display_name": "Python 3",
   "language": "python",
   "name": "python3"
  },
  "language_info": {
   "codemirror_mode": {
    "name": "ipython",
    "version": 3
   },
   "file_extension": ".py",
   "mimetype": "text/x-python",
   "name": "python",
   "nbconvert_exporter": "python",
   "pygments_lexer": "ipython3",
   "version": "3.8.5"
  }
 },
 "nbformat": 4,
 "nbformat_minor": 4
}
